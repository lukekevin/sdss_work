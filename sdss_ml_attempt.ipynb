{
 "cells": [
  {
   "cell_type": "code",
   "execution_count": null,
   "metadata": {},
   "outputs": [],
   "source": [
    "import numpy as np\n",
    "import matplotlib.pyplot as plt\n",
    "import pandas as pd\n",
    "import numpy as np\n",
    "from sklearn.svm import SVR\n",
    "from sklearn.model_selection import train_test_split\n",
    "from sklearn.preprocessing import StandardScaler\n",
    "import pathlib\n",
    "import joblib\n",
    "from sklearn.metrics import r2_score, mean_squared_error\n",
    "\n"
   ]
  },
  {
   "cell_type": "code",
   "execution_count": null,
   "metadata": {},
   "outputs": [],
   "source": [
    "#Read the data\n",
    "gal_csv=pd.read_csv(\"sqlgalaxy_table.csv\")\n",
    "#Check the columns\n",
    "gal_csv.columns"
   ]
  },
  {
   "cell_type": "code",
   "execution_count": null,
   "metadata": {},
   "outputs": [],
   "source": []
  },
  {
   "cell_type": "code",
   "execution_count": null,
   "metadata": {},
   "outputs": [],
   "source": [
    "#Drop missing and nan vals\n",
    "gal_csv=gal_csv.dropna()\n",
    "# Again check missing or null/nan vals\n",
    "print(gal_csv.isnull())\n",
    "\n",
    "#print indices of missing vals\n",
    "missing_indices=gal_csv[gal_csv.isnull().any(axis=1)].index\n",
    "print(\"\\n\")\n",
    "print(missing_indices)\n",
    "if len(missing_indices)==0:\n",
    "\tprint(\"Good Data\")\n",
    "else:\n",
    "\tprint(\"Missing Data\")\n"
   ]
  },
  {
   "cell_type": "code",
   "execution_count": null,
   "metadata": {},
   "outputs": [],
   "source": [
    "#Drop specific cols not relevant\n",
    "exclude_columns=[\"specObjID\", \"class\", \"subClass\", \"ra\", \"dec\", \"mjd\"]\n",
    "gal_csv_exc=gal_csv.drop(columns=exclude_columns)"
   ]
  },
  {
   "cell_type": "code",
   "execution_count": null,
   "metadata": {},
   "outputs": [],
   "source": [
    "# Standardize and scale the data\n",
    "scaler = StandardScaler()\n",
    "scaled_data=pd.DataFrame(scaler.fit_transform(gal_csv_exc), \n",
    "\t\t\t\t\t\t columns=gal_csv_exc.columns)\n",
    "scaled_data\n"
   ]
  },
  {
   "cell_type": "code",
   "execution_count": null,
   "metadata": {},
   "outputs": [],
   "source": [
    "#split the data into targetter variable and features\n",
    "features=scaled_data.drop(columns=[\"sfr_tot_p50\"])\n",
    "target=scaled_data[\"sfr_tot_p50\"]\n",
    "xtrain, xtest, ytrain, ytest=train_test_split(features,target, test_size=0.2)"
   ]
  },
  {
   "cell_type": "code",
   "execution_count": null,
   "metadata": {},
   "outputs": [],
   "source": [
    "#Init the model and make predictions\n",
    "model=SVR()\n",
    "model.fit(xtrain, ytrain)\n",
    "ypred=model.predict(xtest)\n",
    "#save the model with joblib\n",
    "#joblib.dump(model, \"star_formation_prediction_svr_model.pkl\")\n"
   ]
  },
  {
   "cell_type": "code",
   "execution_count": null,
   "metadata": {},
   "outputs": [],
   "source": [
    "#Test how pred and actual data correlate\n",
    "# Accurary check \n",
    "r_squared = r2_score(ytest, ypred)\n",
    "mse = mean_squared_error(ytest, ypred)\n",
    "\n",
    "\n",
    "plt.xlabel(\"SFR predicted in normalised units\")\n",
    "plt.ylabel(\"SFR actual in normalised units\")\n",
    "plt.title(\"SVR results Rsquared acc:{0:.2f}, Meansquare error:{1:.2f}\".format(r_squared, mse))\n",
    "plt.scatter(ypred,ytest, marker=\".\")"
   ]
  },
  {
   "cell_type": "code",
   "execution_count": null,
   "metadata": {},
   "outputs": [],
   "source": [
    "#Use this to load the model at a later stage\n",
    "\"\"\"\n",
    "load_model=joblib.load(\"star_formation_prediction_svr_model.pkl\")\n",
    "new_pred=load_model.predict(new_data)\n",
    "\"\"\""
   ]
  },
  {
   "cell_type": "code",
   "execution_count": null,
   "metadata": {},
   "outputs": [],
   "source": []
  },
  {
   "cell_type": "code",
   "execution_count": null,
   "metadata": {},
   "outputs": [],
   "source": [
    "import seaborn as sns\n",
    "corr=gal_csv_exc[['oh_p2p5', 'oh_p16', 'oh_p50', 'oh_p84', 'oh_p97p5',\n",
    "       'lgm_tot_p2p5', 'lgm_tot_p16', 'lgm_tot_p50', 'lgm_tot_p84',\n",
    "       'lgm_tot_p97p5', 'sfr_tot_p2p5', 'sfr_tot_p16', 'sfr_tot_p50',\n",
    "       'sfr_tot_p84', 'sfr_tot_p97p5', 'sigma_balmer', 'oii_3726_reqw',\n",
    "       'oii_3726_flux', 'neiii_3869_reqw', 'neiii_3869_flux', 'h_delta_reqw',\n",
    "       'h_delta_flux', 'h_gamma_reqw', 'h_gamma_flux', 'oiii_4363_reqw',\n",
    "       'oiii_4363_flux', 'h_beta_reqw', 'h_beta_flux', 'oiii_4959_reqw',\n",
    "       'oiii_4959_flux', 'oiii_5007_reqw', 'oiii_5007_flux', 'hei_5876_reqw',\n",
    "       'hei_5876_flux', 'oi_6300_reqw', 'oi_6300_flux', 'nii_6548_reqw',\n",
    "       'nii_6548_flux', 'h_alpha_reqw', 'h_alpha_flux', 'nii_6584_reqw',\n",
    "       'nii_6584_flux', 'sii_6717_reqw', 'sii_6717_flux', 'sii_6731_reqw',\n",
    "       'sii_6731_flux', 'ariii7135_reqw', 'ariii7135_flux']].corr()\n"
   ]
  },
  {
   "cell_type": "code",
   "execution_count": null,
   "metadata": {},
   "outputs": [],
   "source": [
    "plt.figure(figsize=(10,10))\n",
    "sns.heatmap(corr, xticklabels=corr.columns.values, \n",
    "\t\t\tyticklabels=corr.columns.values)"
   ]
  },
  {
   "cell_type": "code",
   "execution_count": null,
   "metadata": {},
   "outputs": [],
   "source": [
    "gal_csv[[\"sfr_tot_p50\", \"z\"]]"
   ]
  },
  {
   "cell_type": "code",
   "execution_count": null,
   "metadata": {},
   "outputs": [],
   "source": [
    "ytest"
   ]
  },
  {
   "cell_type": "code",
   "execution_count": null,
   "metadata": {},
   "outputs": [],
   "source": [
    "ypred"
   ]
  },
  {
   "cell_type": "code",
   "execution_count": null,
   "metadata": {},
   "outputs": [],
   "source": []
  }
 ],
 "metadata": {
  "kernelspec": {
   "display_name": "Python 3",
   "language": "python",
   "name": "python3"
  },
  "language_info": {
   "codemirror_mode": {
    "name": "ipython",
    "version": 3
   },
   "file_extension": ".py",
   "mimetype": "text/x-python",
   "name": "python",
   "nbconvert_exporter": "python",
   "pygments_lexer": "ipython3",
   "version": "3.8.10"
  },
  "orig_nbformat": 4
 },
 "nbformat": 4,
 "nbformat_minor": 2
}
