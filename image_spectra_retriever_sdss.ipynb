{
 "cells": [
  {
   "cell_type": "code",
   "execution_count": null,
   "metadata": {},
   "outputs": [],
   "source": [
    "\n",
    "from urllib.parse import urlencode\n",
    "from urllib.request import urlretrieve\n",
    "from pathlib import Path\n",
    "import os\n",
    "import pandas as pd\n",
    "\n",
    "#Orignal CSV file downloaded from the SDSS DR 18 sql server\n",
    "gal_csv=pd.read_csv('/home/kevin/aufklarung_astro_station/project2/sqlgalaxy_table.csv')\n",
    "#Filter out only visibly big galaxie\n",
    "filtered_ga=gal_csv[gal_csv['deVRad_g']>25]\n"
   ]
  },
  {
   "cell_type": "code",
   "execution_count": null,
   "metadata": {},
   "outputs": [],
   "source": [
    "#Image downloader\n",
    "\n",
    "#make a dir at the path\n",
    "current_dir=Path(os.getcwd())\n",
    "output_image = current_dir.joinpath(\"images\")\n",
    "output_image.mkdir(parents=True, exist_ok=True)\n",
    "\n",
    "\n",
    "img_cutoutbaseurl = \"https://skyserver.sdss.org/dr18/SkyServerWS/ImgCutout/getjpeg?TaskName=Skyserver.Explore.Image\"\n",
    "for ra, dec, objclass, spobjid in zip(filtered_ga['ra'], filtered_ga['dec'], \n",
    "                                      filtered_ga['class'], filtered_ga['specObjID']):\n",
    "                                         \n",
    "    img_query_string = urlencode(dict(ra=ra,\n",
    "                                  dec=dec,\n",
    "                                  width=500,height=500,\n",
    "                                  scale=0.3, opt=\"GL\"))\n",
    "                                         \n",
    "\n",
    "    #The url of the image\n",
    "    img_url = img_cutoutbaseurl + '&' + img_query_string\n",
    "    #Prep the name of the image and spec\n",
    "    image_name = output_image.as_posix() + '/'+'image_{0}ra_{1}dec_{2}_{3}specObjID_SDSS_dr18.jpg'.format(ra,dec,objclass, spobjid)\n",
    "    #Download the image and spectra\n",
    "    urlretrieve(img_url, image_name)"
   ]
  },
  {
   "cell_type": "code",
   "execution_count": null,
   "metadata": {},
   "outputs": [],
   "source": [
    "#Spectra downloader\n",
    "#make a dir at the path\n",
    "output_spectra = current_dir.joinpath(\"spectra\")\n",
    "output_spectra.mkdir(parents=True, exist_ok=True)\n",
    "\n",
    "#spectra downloader\n",
    "sp_base='https://skyserver.sdss.org/dr18/en/get/SpecById.ashx'\n",
    "for spobjid in filtered_gal_csv['specObjID']:\n",
    "    sp_query_string = urlencode(dict(id=spobjid))\n",
    "    sp_url=sp_base+'?'+sp_query_string\n",
    "    sp_name=output_spectra.as_posix()+ '/'+'spectra_specobjid_{0}SDSS_dr18.png'.format(spobjid)\n",
    "    urlretrieve(sp_url, sp_name)"
   ]
  }
 ],
 "metadata": {
  "kernelspec": {
   "display_name": "Python 3",
   "language": "python",
   "name": "python3"
  },
  "language_info": {
   "name": "python",
   "version": "3.8.10"
  },
  "orig_nbformat": 4
 },
 "nbformat": 4,
 "nbformat_minor": 2
}
