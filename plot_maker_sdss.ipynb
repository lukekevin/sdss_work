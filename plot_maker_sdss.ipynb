{
 "cells": [
  {
   "cell_type": "code",
   "execution_count": null,
   "metadata": {},
   "outputs": [],
   "source": [
    "import numpy as np\n",
    "import matplotlib.pyplot as plt\n",
    "import pandas as pd\n",
    "from PIL import Image\n",
    "import pathlib\n",
    "import os\n",
    "import glob\n",
    "\n",
    "\"\"\"\n",
    "WARNING:\n",
    "Run this code only after the sql table from the sdss skyserver sql is ready and\n",
    "only after the images and spectra have been downloaded\n",
    "\"\"\"\n"
   ]
  },
  {
   "cell_type": "code",
   "execution_count": null,
   "metadata": {},
   "outputs": [],
   "source": [
    "#THE CSV FILE FROM SDSS SKYSERVER SQL\n",
    "gal_csv=pd.read_csv('/home/kevin/aufklarung_astro_station/project2/sqlgalaxy_table.csv')\n",
    "gal_csv.columns"
   ]
  },
  {
   "cell_type": "code",
   "execution_count": null,
   "metadata": {},
   "outputs": [],
   "source": [
    "\n",
    "# Use glob to find all jpg image files\n",
    "image_jpg_files = glob.glob('images/*.jpg')\n",
    "\n",
    "#Use glob to find all png spectra files\n",
    "spectra_png_files=glob.glob('spectra/*.png')\n",
    "\n",
    "\n",
    "#This tool extracts all the specObjID from the images of galaxies.\n",
    "\n",
    "\n",
    "IMG_SPID=[]\n",
    "\n",
    "\n",
    "for img_name in image_jpg_files:\n",
    "\timg_path=pathlib.Path(img_name)\n",
    "\timg_spid=img_path.stem[-37:-19]\n",
    "\tIMG_SPID.append(int(img_spid))\n",
    "\n",
    "SPC_SPID=[]\n",
    "for spec_name in spectra_png_files:\n",
    "    spec_path= pathlib.Path(spec_name)\n",
    "    spec_spid=spec_path.stem[-27:-9]\n",
    "    SPC_SPID.append(int(spec_spid))\n",
    "     \n",
    "     \n"
   ]
  },
  {
   "cell_type": "code",
   "execution_count": null,
   "metadata": {},
   "outputs": [],
   "source": [
    "\n",
    "filtered_gal_csv=gal_csv[gal_csv['specObjID'].isin(IMG_SPID)]\n",
    "specobjid=list(filtered_gal_csv['specObjID'])\n",
    "\n",
    "for ids in specobjid[23:25]:\n",
    "\tselected_gal_csv=np.round(filtered_gal_csv[['i','deVRad_i',\n",
    "\t\t\t\t\t'oh_p50', 'lgm_tot_p50', 'sfr_tot_p50',\n",
    "\t\t\t\t\t'oii_3726_flux', 'neiii_3869_flux',\n",
    "\t\t\t\t\t\t'h_delta_flux', 'h_gamma_flux', \n",
    "\t\t\t\t\t\t'oiii_4363_flux', 'h_beta_flux',\n",
    "\t\t\t\t\t\t'oiii_4959_flux',  'oiii_5007_flux', \n",
    "\t\t\t\t\t\t'hei_5876_flux',  'oi_6300_flux', \n",
    "\t\t\t\t\t\t'nii_6548_flux',  'h_alpha_flux',\n",
    "\t\t\t\t\t\t'nii_6584_flux',  'sii_6717_flux',\n",
    "\t\t\t\t\t\t'sii_6731_flux', \n",
    "\t\t\t\t\t\t'ariii7135_flux']],3\n",
    "\t\t\t\t\t\t\t\t\t\t)[filtered_gal_csv['specObjID']==ids].T\n",
    "\t\n",
    "\tfig=plt.figure(figsize=(20,5), dpi=170)\n",
    "\n",
    "\n",
    "\tax=fig.add_subplot(1,3,3)\n",
    "\tax.axis('off')\n",
    "\tthe_table=ax.table(cellText=selected_gal_csv.values,\n",
    "\t\t\t\t\tloc='center', rowLabels=selected_gal_csv.index,\n",
    "\t\t\t\t\tcellLoc='center', colWidths=[0.3])\n",
    "\tthe_table.auto_set_font_size(False)\n",
    "\tthe_table.set_fontsize(8)\n",
    "\t\n",
    "\t#fig.subplots_adjust(wspace=-0.03, hspace=0 )\n",
    "\n",
    "\tfor imgs in image_jpg_files:\n",
    "\t\timage_file=pathlib.Path(imgs)\n",
    "\t\timage_spid=image_file.stem[-37:-19]\n",
    "\n",
    "\t\tif int(image_spid)==ids:\n",
    "\t\t\tprint(image_spid)\n",
    "\n",
    "\t\t\tax2=fig.add_subplot(1,3,1)\n",
    "\t\t\tthe_image=plt.imread(image_file)\n",
    "\t\t\tax2.imshow(the_image)\n",
    "\t\t\tax2.axis('off')\n",
    "\t\t\tax2.set_title('specObjID: {0}'.format(ids),loc='center')\n",
    "\n",
    "\tfig.subplots_adjust(wspace=-0.3, hspace=0 )\n",
    "\n",
    "\tfor spcs in spectra_png_files:\n",
    "\t\tspectra_file=pathlib.Path(spcs)\n",
    "\t\tspectra_spid=spectra_file.stem[-27:-9]\n",
    "\n",
    "\t\tif int(spectra_spid)==ids:\n",
    "\t\t\tprint(spectra_spid)\n",
    "\n",
    "\t\t\tax3=fig.add_subplot(1,3,2)\n",
    "\t\t\tthe_spectra=plt.imread(spectra_file)\n",
    "\t\t\tax3.imshow(the_spectra)\n",
    "\t\t\tax3.axis('off')\n",
    "\t\n",
    "\tfig.tight_layout()\n",
    "\tfig.savefig('combined_plot_specobjid_{0}.png'.format(ids))\n",
    "\t\n",
    "\n",
    "\t\t\t\n",
    "\t\t \n"
   ]
  },
  {
   "cell_type": "code",
   "execution_count": null,
   "metadata": {},
   "outputs": [],
   "source": []
  },
  {
   "cell_type": "code",
   "execution_count": null,
   "metadata": {},
   "outputs": [],
   "source": []
  },
  {
   "cell_type": "code",
   "execution_count": null,
   "metadata": {},
   "outputs": [],
   "source": []
  },
  {
   "cell_type": "code",
   "execution_count": null,
   "metadata": {},
   "outputs": [],
   "source": []
  },
  {
   "cell_type": "code",
   "execution_count": null,
   "metadata": {},
   "outputs": [],
   "source": []
  },
  {
   "cell_type": "code",
   "execution_count": null,
   "metadata": {},
   "outputs": [],
   "source": []
  },
  {
   "cell_type": "code",
   "execution_count": null,
   "metadata": {},
   "outputs": [],
   "source": []
  },
  {
   "cell_type": "code",
   "execution_count": null,
   "metadata": {},
   "outputs": [],
   "source": []
  }
 ],
 "metadata": {
  "kernelspec": {
   "display_name": "Python 3",
   "language": "python",
   "name": "python3"
  },
  "language_info": {
   "codemirror_mode": {
    "name": "ipython",
    "version": 3
   },
   "file_extension": ".py",
   "mimetype": "text/x-python",
   "name": "python",
   "nbconvert_exporter": "python",
   "pygments_lexer": "ipython3",
   "version": "3.8.10"
  },
  "orig_nbformat": 4
 },
 "nbformat": 4,
 "nbformat_minor": 2
}
