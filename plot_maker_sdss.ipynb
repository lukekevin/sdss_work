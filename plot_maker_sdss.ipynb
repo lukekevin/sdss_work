{
 "cells": [
  {
   "cell_type": "code",
   "execution_count": 3,
   "metadata": {},
   "outputs": [],
   "source": [
    "import numpy as np\n",
    "import matplotlib.pyplot as plt\n",
    "import pandas as pd\n",
    "from scipy.optimize import curve_fit\n",
    "import numpy as np\n",
    "import matplotlib.pyplot as plt\n",
    "from scipy.stats import linregress\n",
    "from scipy.optimize import curve_fit\n",
    "from scipy.stats import norm \n",
    "from sklearn.svm import SVR\n",
    "from sklearn.model_selection import train_test_split\n",
    "from sklearn.cluster import DBSCAN\n",
    "from sklearn.preprocessing import StandardScaler\n",
    "from scipy.interpolate import  UnivariateSpline\n",
    "from PIL import Image\n",
    "import pathlib\n",
    "import os\n",
    "import glob\n"
   ]
  },
  {
   "cell_type": "code",
   "execution_count": 2,
   "metadata": {},
   "outputs": [
    {
     "data": {
      "text/plain": [
       "Index(['specObjID', 'z', 'class', 'subClass', 'ra', 'dec', 'mjd', 'petroMag_u',\n",
       "       'petroMag_g', 'petroMag_r', 'petroMag_i', 'petroMag_z', 'petroRad_u',\n",
       "       'petroRad_g', 'petroRad_r', 'petroRad_i', 'petroRad_z', 'q_u', 'q_g',\n",
       "       'q_r', 'q_i', 'q_z', 'u_u', 'u_g', 'u_r', 'u_i', 'u_z', 'deVRad_u',\n",
       "       'deVRad_g', 'deVRad_r', 'deVRad_i', 'deVRad_z', 'deVAB_u', 'deVAB_g',\n",
       "       'deVAB_r', 'deVAB_i', 'deVAB_z', 'extinction_u', 'extinction_g',\n",
       "       'extinction_r', 'extinction_i', 'extinction_z', 'u', 'g', 'r', 'i',\n",
       "       'bptclass', 'oh_p2p5', 'oh_p16', 'oh_p50', 'oh_p84', 'oh_p97p5',\n",
       "       'lgm_tot_p2p5', 'lgm_tot_p16', 'lgm_tot_p50', 'lgm_tot_p84',\n",
       "       'lgm_tot_p97p5', 'sfr_tot_p2p5', 'sfr_tot_p16', 'sfr_tot_p50',\n",
       "       'sfr_tot_p84', 'sfr_tot_p97p5', 'sigma_balmer', 'oii_3726_reqw',\n",
       "       'oii_3726_flux', 'neiii_3869_reqw', 'neiii_3869_flux', 'h_delta_reqw',\n",
       "       'h_delta_flux', 'h_gamma_reqw', 'h_gamma_flux', 'oiii_4363_reqw',\n",
       "       'oiii_4363_flux', 'h_beta_reqw', 'h_beta_flux', 'oiii_4959_reqw',\n",
       "       'oiii_4959_flux', 'oiii_5007_reqw', 'oiii_5007_flux', 'hei_5876_reqw',\n",
       "       'hei_5876_flux', 'oi_6300_reqw', 'oi_6300_flux', 'nii_6548_reqw',\n",
       "       'nii_6548_flux', 'h_alpha_reqw', 'h_alpha_flux', 'nii_6584_reqw',\n",
       "       'nii_6584_flux', 'sii_6717_reqw', 'sii_6717_flux', 'sii_6731_reqw',\n",
       "       'sii_6731_flux', 'ariii7135_reqw', 'ariii7135_flux'],\n",
       "      dtype='object')"
      ]
     },
     "execution_count": 2,
     "metadata": {},
     "output_type": "execute_result"
    }
   ],
   "source": [
    "gal_csv=pd.read_csv('/home/kevin/aufklarung_astro_station/project2/sqlgalaxy_table.csv')\n",
    "gal_csv.columns"
   ]
  },
  {
   "cell_type": "code",
   "execution_count": 4,
   "metadata": {},
   "outputs": [],
   "source": [
    "# Replace 'your_directory_path' with the actual path to your directory\n",
    "directory_path = 'images/'\n",
    "\n",
    "# Use glob to find all PNG files\n",
    "jpg_files = glob.glob('images/*.jpg')\n",
    "\n",
    "\n",
    "SPID=[]\n",
    "for img_name in jpg_files:\n",
    "\timg_path=pathlib.Path(img_name)\n",
    "\tspid=img_path.stem[-37:-19]\n",
    "\tSPID.append(int(spid))\n"
   ]
  },
  {
   "cell_type": "code",
   "execution_count": null,
   "metadata": {},
   "outputs": [],
   "source": [
    "\n",
    "filtered_gal_csv=gal_csv[gal_csv['specObjID'].isin(SPID)]\n",
    "\n",
    "for ids, imgs in zip(SPID[:1], jpg_files):\n",
    "\timage_file=pathlib.Path(imgs)\n",
    "\timage_spid=image_file.stem[-37:-19]\n",
    "\tif int(image_spid)==ids:\n",
    "\t\tprint(image_spid)\n",
    "\n",
    "\t\n",
    "\t\n",
    "\t\tselected_gal_csv=np.round(filtered_gal_csv[['z','i','deVRad_i',\n",
    "\t\t\t\t\t\t\t\t\t\t\t\t'oh_p50', 'lgm_tot_p50', 'sfr_tot_p50',\n",
    "\t\t\t\t\t\t\t\t\t\t\t\t'oii_3726_flux', 'neiii_3869_flux',\n",
    "\t\t\t\t\t\t\t\t\t\t\t\t\t'h_delta_flux', 'h_gamma_flux', \n",
    "\t\t\t\t\t\t\t\t\t\t\t\t\t'oiii_4363_flux', 'h_beta_flux',\n",
    "\t\t\t\t\t\t\t\t\t\t\t\t\t'oiii_4959_flux',  'oiii_5007_flux', \n",
    "\t\t\t\t\t\t\t\t\t\t\t\t\t'hei_5876_flux',  'oi_6300_flux', \n",
    "\t\t\t\t\t\t\t\t\t\t\t\t\t'nii_6548_flux',  'h_alpha_flux',\n",
    "\t\t\t\t\t\t\t\t\t\t\t\t\t'nii_6584_flux',  'sii_6717_flux',\n",
    "\t\t\t\t\t\t\t\t\t\t\t\t\t'sii_6731_flux', 'ariii7135_flux']],3)[filtered_gal_csv['specObjID']==ids].T\n",
    "\t\tfig=plt.figure(figsize=(7,4), dpi=170)\n",
    "\t\tax=fig.add_subplot(1,2,1)\n",
    "\t\t\n",
    "\n",
    "\t\tax.axis('off')\n",
    "\t\tthe_table=ax.table(cellText=selected_gal_csv.values,\n",
    "\t\t\t\t\t\tloc='center', rowLabels=selected_gal_csv.index,\n",
    "\t\t\t\t\t\tcellLoc='center', colWidths=[0.3])\n",
    "\t\tthe_table.auto_set_font_size(False)\n",
    "\t\tthe_table.set_fontsize(8)\n",
    "\n",
    "\n",
    "\t\tax2=fig.add_subplot(1,2,2)\n",
    "\t\tthe_image=plt.imread(image_file)\n",
    "\t\tax2.imshow(the_image)\n",
    "\t\tax2.axis('off')\n",
    "\t\tax2.set_title('specObjID: {0}'.format(ids),loc='center')\n",
    "\n",
    "\t\tfig.subplots_adjust(wspace=-0.36, hspace=0 )\n",
    "\t\tfig.savefig('table_{0}.png'.format(ids))\n",
    "\t\n",
    "\t"
   ]
  },
  {
   "cell_type": "code",
   "execution_count": null,
   "metadata": {},
   "outputs": [],
   "source": []
  },
  {
   "cell_type": "code",
   "execution_count": null,
   "metadata": {},
   "outputs": [],
   "source": []
  },
  {
   "cell_type": "code",
   "execution_count": null,
   "metadata": {},
   "outputs": [],
   "source": []
  },
  {
   "cell_type": "code",
   "execution_count": null,
   "metadata": {},
   "outputs": [],
   "source": []
  }
 ],
 "metadata": {
  "kernelspec": {
   "display_name": "Python 3",
   "language": "python",
   "name": "python3"
  },
  "language_info": {
   "codemirror_mode": {
    "name": "ipython",
    "version": 3
   },
   "file_extension": ".py",
   "mimetype": "text/x-python",
   "name": "python",
   "nbconvert_exporter": "python",
   "pygments_lexer": "ipython3",
   "version": "3.8.10"
  },
  "orig_nbformat": 4
 },
 "nbformat": 4,
 "nbformat_minor": 2
}
