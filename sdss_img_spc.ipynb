{
 "cells": [
  {
   "cell_type": "code",
   "execution_count": 1,
   "id": "231517bf-8696-4dae-b2b8-bc377ac62127",
   "metadata": {},
   "outputs": [],
   "source": [
    "import numpy as np\n",
    "import matplotlib.pyplot as plt\n",
    "from astroquery.sdss import SDSS\n",
    "from urllib.parse import urlencode\n",
    "from urllib.request import urlretrieve\n",
    "import pandas as pd\n",
    "from pathlib import Path\n",
    "import os\n",
    "import sqlite3\n"
   ]
  },
  {
   "cell_type": "code",
   "execution_count": null,
   "id": "98a011e2-d26b-4d22-80f8-44e5c1155d83",
   "metadata": {},
   "outputs": [],
   "source": [
    "with open('sql_query.sql', 'r') as f:\n",
    "    sql_code = f.read()\n",
    "\n",
    "sql_table=SDSS.query_sql(sql_code).to_pandas()\n",
    "sql_table.to_csv(output_image.as_posix()+\"/\"+ \"sqltable_galaxy.csv\", sep=\",\")"
   ]
  },
  {
   "cell_type": "code",
   "execution_count": 13,
   "id": "8250b580-19c8-4ce9-9eb4-f481ec4f7c1f",
   "metadata": {},
   "outputs": [],
   "source": [
    "#make a dir at the path\n",
    "current_dir=Path(os.getcwd())\n",
    "output_image = current_dir.joinpath(\"project2\")\n",
    "output_image.mkdir(parents=True, exist_ok=True)"
   ]
  },
  {
   "cell_type": "code",
   "execution_count": 12,
   "id": "5bd992df-5f5a-4efb-afb4-4f077f31e1f5",
   "metadata": {},
   "outputs": [],
   "source": [
    "sdss_query= \"\"\"\n",
    "      select \n",
    "      top 100 *\n",
    "      from SpecPhoto\n",
    "      where class='galaxy' and subClass='STARFORMING' and z<1\n",
    "      \"\"\"\n",
    "sql_table=SDSS.query_sql(sdss_query).to_pandas()\n",
    "sql_table.to_csv(output_image.as_posix()+\"/\"+ \"sqltable.csv\", sep=\",\")"
   ]
  },
  {
   "cell_type": "code",
   "execution_count": 8,
   "id": "1dd8de1d-21cc-4f1b-8480-6822333f8685",
   "metadata": {},
   "outputs": [],
   "source": [
    "\n",
    "\n",
    "#Image downloader\n",
    "img_cutoutbaseurl = \"https://skyserver.sdss.org/dr18/SkyServerWS/ImgCutout/getjpeg?TaskName=Skyserver.Explore.Image\"\n",
    "for ra, dec, objclass, spobjid in zip(sql_table['ra'], sql_table['dec'], \n",
    "                                      sql_table['class'], sql_table['specObjID']):\n",
    "                                         \n",
    "    img_query_string = urlencode(dict(ra=ra,\n",
    "                                  dec=dec,\n",
    "                                  width=500,height=500,\n",
    "                                  scale=0.2, opt=\"GL\"))\n",
    "                                         \n",
    "\n",
    "    #The url of the image\n",
    "    img_url = img_cutoutbaseurl + '&' + img_query_string\n",
    "    #Prep the name of the image and spec\n",
    "    image_name = output_image.as_posix() + '/'+'image_{0}ra_{1}dec_{2}_{3}specObjID_SDSS_dr18.jpg'.format(ra,dec,objclass, spobjid)\n",
    "    #Download the image and spectra\n",
    "    urlretrieve(img_url, image_name)\n"
   ]
  },
  {
   "cell_type": "code",
   "execution_count": 10,
   "id": "023e3d9a-9c37-4413-ab60-91ae9c7c6235",
   "metadata": {},
   "outputs": [],
   "source": [
    "#spectra downloader\n",
    "sp_base='https://skyserver.sdss.org/dr18/en/get/SpecById.ashx'\n",
    "for ra, dec, objclass, spobjid in zip(sql_table['ra'], sql_table['dec'], sql_table['class'],sql_table['specObjID']):\n",
    "    sp_query_string = urlencode(dict(id=spobjid))\n",
    "    sp_url=sp_base+'?'+sp_query_string\n",
    "    sp_name=output_image.as_posix()+ '/'+'spectra_ra_{0}_dec_{1}_class_{2}_specobjid_{3}SDSS_dr18.png'.format(ra, dec, objclass, spobjid)\n",
    "    urlretrieve(sp_url, sp_name)\n",
    "    \n",
    "    \n",
    "    "
   ]
  },
  {
   "cell_type": "code",
   "execution_count": null,
   "id": "68dfb78e-183d-4957-995e-7b18dc3da4c0",
   "metadata": {},
   "outputs": [],
   "source": []
  },
  {
   "cell_type": "code",
   "execution_count": null,
   "id": "0e813e5c-1447-41e0-a621-7c395989ca07",
   "metadata": {},
   "outputs": [],
   "source": []
  },
  {
   "cell_type": "code",
   "execution_count": null,
   "id": "ef75ad31-963e-45a5-83cb-2a8785b8699c",
   "metadata": {},
   "outputs": [],
   "source": []
  },
  {
   "cell_type": "code",
   "execution_count": null,
   "id": "aef3ef0c-8a04-476a-9054-35a9bfa211ec",
   "metadata": {},
   "outputs": [],
   "source": []
  },
  {
   "cell_type": "code",
   "execution_count": null,
   "id": "b47304cc-d719-453f-9e79-b87d675c6c19",
   "metadata": {},
   "outputs": [],
   "source": []
  },
  {
   "cell_type": "code",
   "execution_count": 2,
   "id": "b5a3ae74-5d84-4ee6-83ac-e03d70494d18",
   "metadata": {},
   "outputs": [],
   "source": [
    "#table to latext converter"
   ]
  },
  {
   "cell_type": "code",
   "execution_count": null,
   "id": "6f1058cd-0d8c-4020-8a87-06d7c0970f29",
   "metadata": {},
   "outputs": [],
   "source": []
  },
  {
   "cell_type": "code",
   "execution_count": null,
   "id": "e5245411-d619-4d75-8d63-d755e380f62d",
   "metadata": {},
   "outputs": [],
   "source": []
  },
  {
   "cell_type": "code",
   "execution_count": null,
   "id": "ff064e7c-4d21-4a38-894c-2feb74779db1",
   "metadata": {},
   "outputs": [],
   "source": []
  },
  {
   "cell_type": "code",
   "execution_count": null,
   "id": "30b332a9-9b24-494a-b0c8-77f3b0492c07",
   "metadata": {},
   "outputs": [],
   "source": []
  },
  {
   "cell_type": "code",
   "execution_count": 2,
   "id": "3111ff28-b7ab-4974-a4bd-518da1c1a505",
   "metadata": {},
   "outputs": [
    {
     "name": "stdout",
     "output_type": "stream",
     "text": [
      "LaTeX code has been written to output.tex\n"
     ]
    }
   ],
   "source": [
    "import os\n",
    "\n",
    "folder_path = 'project1/images/'  # Replace this with the path to your image folder\n",
    "output_file = 'output.tex'  # Replace this with the desired output file name\n",
    "\n",
    "# Get a list of all image files in the folder\n",
    "image_files = [f for f in os.listdir(folder_path) if os.path.isfile(os.path.join(folder_path, f))]\n",
    "\n",
    "# Open the output file for writing\n",
    "with open(output_file, 'w') as f:\n",
    "    # Write the LaTeX code for the figure\n",
    "    f.write(r'\\begin{figure}[h]' + '\\n')\n",
    "    f.write(r'\\centering' + '\\n')\n",
    "    f.write(r'\\begin{tabular}{cccc}' + '\\n')\n",
    "\n",
    "    # Iterate over the image files and write the LaTeX code for each image\n",
    "    for i, image_file in enumerate(image_files):\n",
    "        # Write the LaTeX code for the current image\n",
    "        f.write(r'\\includegraphics[width = 1.5in]{' + os.path.join(folder_path, image_file) + r'} &')\n",
    "\n",
    "        # Start a new row after every 4 images\n",
    "        if (i + 1) % 4 == 0:\n",
    "            f.write(r'\\\\' + '\\n')\n",
    "\n",
    "    # Close the last row and finish the LaTeX code for the figure\n",
    "    f.write(r'\\end{tabular}' + '\\n')\n",
    "    f.write(r'\\caption{4 x 4}' + '\\n')\n",
    "    f.write(r'\\end{figure}' + '\\n')\n",
    "\n",
    "print(f'LaTeX code has been written to {output_file}')\n"
   ]
  },
  {
   "cell_type": "code",
   "execution_count": null,
   "id": "72271c19-f2c2-4595-8570-5bf1eb768845",
   "metadata": {},
   "outputs": [],
   "source": []
  },
  {
   "cell_type": "code",
   "execution_count": null,
   "id": "4231d066-edd7-4b51-82ab-529da169362a",
   "metadata": {},
   "outputs": [],
   "source": []
  }
 ],
 "metadata": {
  "kernelspec": {
   "display_name": "Python 3 (ipykernel)",
   "language": "python",
   "name": "python3"
  },
  "language_info": {
   "codemirror_mode": {
    "name": "ipython",
    "version": 3
   },
   "file_extension": ".py",
   "mimetype": "text/x-python",
   "name": "python",
   "nbconvert_exporter": "python",
   "pygments_lexer": "ipython3",
   "version": "3.8.10"
  }
 },
 "nbformat": 4,
 "nbformat_minor": 5
}
